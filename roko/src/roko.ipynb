{
 "cells": [
  {
   "cell_type": "code",
   "execution_count": null,
   "metadata": {
    "scrolled": true
   },
   "outputs": [
    {
     "name": "stdout",
     "output_type": "stream",
     "text": [
      "S: Do you play video games? \n",
      "U: i really like video games\n",
      "S: why do you like  video games\n",
      "U: video games are fun and exciting\n",
      "S: it is interesting that  video games make you feel excited. are there maybe particular types of stories you enjoy like horror or adventure stories?\n",
      "U: i prefer action stories\n",
      "S: action role playing games are pretty fun, but violent. would you like a action game?\n",
      "U: yea sure\n",
      "S: i know of some action games! i think you might like skyrim.\n",
      "U: i play skyrim once in a while\n",
      "S: i love how in skyrim there constantly feels like theres more to explore within the world, between sidequests and the downloadable content. what is your favorite guild?\n",
      "U: i think charmander is a guild right\n",
      "S: i think that is actually from pokemon. would you like to talk about pokemon instead?\n",
      "U: id love to talk about pokemon\n",
      "S: i like whiterun the most, it's the most central and important to the main story. what do you think about the role playing game genre?\n"
     ]
    }
   ],
   "source": [
    "%run -i roko.py"
   ]
  }
 ],
 "metadata": {
  "kernelspec": {
   "display_name": "Python 3",
   "language": "python",
   "name": "python3"
  },
  "language_info": {
   "codemirror_mode": {
    "name": "ipython",
    "version": 3
   },
   "file_extension": ".py",
   "mimetype": "text/x-python",
   "name": "python",
   "nbconvert_exporter": "python",
   "pygments_lexer": "ipython3",
   "version": "3.7.4"
  }
 },
 "nbformat": 4,
 "nbformat_minor": 2
}
